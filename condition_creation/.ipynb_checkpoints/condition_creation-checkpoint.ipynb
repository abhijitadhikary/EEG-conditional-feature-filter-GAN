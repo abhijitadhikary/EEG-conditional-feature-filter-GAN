{
 "cells": [
  {
   "cell_type": "code",
   "execution_count": 1,
   "metadata": {},
   "outputs": [],
   "source": [
    "import numpy as np\n",
    "from scipy.io import loadmat\n",
    "import matplotlib.pyplot as plt\n",
    "import pandas as pd\n",
    "\n",
    "%matplotlib inline"
   ]
  },
  {
   "cell_type": "markdown",
   "metadata": {},
   "source": [
    "| Alcoholism (0-1) | Stimulus (1-5) | Identity (1-122) |Comment|\n",
    "| --- | --- | --- | --- |\n",
    "| 1 | 1 | 1 | Randomly select alcoholic individuals\n",
    "| 0 | 1 | 1 | Randomly select NON-alcoholic individuals\n",
    "| 1 | 0 | 0 | Take alcoholic individuals, select* random trials and avg\n",
    "| 0 | 0 | 0 | Take NON-alcoholic individuals, select* random trials and avg\n",
    "| 1 | 0 | 1 | From alcoholic individuals, fist randomly select a person, select* random trials containing that identity and avg\n",
    "| 0 | 0 | 1 | From NON-alcoholic individuals, fist randomly select a person, select* random trials containing that identity and avg\n",
    "| 1 | 1 | 0 | From alcoholic individuals, fist randomly select a stimulus, select* random trials containing that stimulus and avg\n",
    "| 0 | 1 | 0 | From NON-alcoholic individuals, fist randomly select a stimulus, select* random trials containing that stimulus and avg\n",
    "\n",
    "*select means randomly draw 3 or 5 trials and take the average\n",
    "\n",
    "**averaged trials mean that they either contain or does not contain that feature, does not say anything a specific featuree (i.e. which stimulus/person)\n",
    "\n",
    "1. How many trials to average over (to make sure it is a proper average/not from the same categories)?\n",
    "2. How many samples to generate per condition?"
   ]
  },
  {
   "cell_type": "code",
   "execution_count": 32,
   "metadata": {},
   "outputs": [],
   "source": [
    "def load_data():\n",
    "    # load the .mat file\n",
    "    filename = 'uci_eeg_train_within.mat'\n",
    "    data_mat = loadmat(filename)\n",
    "\n",
    "    # create separate arrays for each feature/label\n",
    "    data = data_mat['data']\n",
    "    label_alcoholism = data_mat['label_alcoholism'].reshape(-1)\n",
    "    label_stimulus = data_mat['label_stimulus'].reshape(-1)\n",
    "    label_id = data_mat['label_id'].reshape(-1)\n",
    "\n",
    "    # create dataframe of labels\n",
    "    labels = {\n",
    "        'alcoholism': label_alcoholism,\n",
    "        'stimulus': label_stimulus,\n",
    "        'id': label_id\n",
    "    }\n",
    "    df = pd.DataFrame(labels)\n",
    "\n",
    "    # remove all trials containing stimulus 3 and 4 (data) \n",
    "    indices_stimulus_3 = df.loc[(df['stimulus'] == 3)].index\n",
    "    indices_stimulus_4 = df.loc[(df['stimulus'] == 4)].index\n",
    "    indices_stimulus_3_n_4 = np.array(indices_stimulus_3.append(indices_stimulus_4))\n",
    "    data = np.delete(data, indices_stimulus_3_n_4, 0)\n",
    "\n",
    "    # remove all trials containing stimulus 3 and 4 (labels)\n",
    "    num_samples = len(data)\n",
    "    indices_new = pd.Series(np.arange(0, num_samples))\n",
    "    df = df.drop(indices_stimulus_3_n_4, axis=0).set_index(indices_new)\n",
    "    \n",
    "    return data, df\n",
    "\n",
    "data, df = load_data()\n",
    "\n",
    "# extract unique labels\n",
    "labels_unique_alcoholism = np.array(df['alcoholism'].value_counts().keys())\n",
    "labels_unique_stimulus = np.array(df['stimulus'].value_counts().keys())\n",
    "labels_unique_id = np.sort(np.array(df['id'].value_counts().keys()))"
   ]
  },
  {
   "cell_type": "code",
   "execution_count": 12,
   "metadata": {},
   "outputs": [],
   "source": [
    "# alcoholic\n",
    "condition_1_1_1 = np.array(df[df['alcoholism'] == 1].index)\n",
    "# NON-alcoholic\n",
    "condition_0_1_1 = np.array(df[df['alcoholism'] == 0].index)\n",
    "\n",
    "# alcoholic + no-other feature\n",
    "condition_1_0_0 = np.array(df[df['alcoholism'] == 1].index)\n",
    "# TODO perform averaging #\n",
    "\n",
    "# NON-alcoholic + no-other feature\n",
    "condition_0_0_0 = np.array(df[df['alcoholism'] == 0].index)\n",
    "# TODO perform averaging #\n",
    "\n"
   ]
  },
  {
   "cell_type": "code",
   "execution_count": 29,
   "metadata": {},
   "outputs": [],
   "source": []
  },
  {
   "cell_type": "code",
   "execution_count": null,
   "metadata": {},
   "outputs": [],
   "source": []
  }
 ],
 "metadata": {
  "kernelspec": {
   "display_name": "Python 3",
   "language": "python",
   "name": "python3"
  },
  "language_info": {
   "codemirror_mode": {
    "name": "ipython",
    "version": 3
   },
   "file_extension": ".py",
   "mimetype": "text/x-python",
   "name": "python",
   "nbconvert_exporter": "python",
   "pygments_lexer": "ipython3",
   "version": "3.8.5"
  }
 },
 "nbformat": 4,
 "nbformat_minor": 4
}
